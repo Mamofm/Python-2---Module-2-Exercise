{
 "cells": [
  {
   "cell_type": "markdown",
   "metadata": {},
   "source": [
    "# OOP - Composition, Encapsulation, & Inheritance"
   ]
  },
  {
   "cell_type": "markdown",
   "metadata": {},
   "source": [
    "## Exercise 1: \n",
    "Create a Temperature Converter program using OOP by creating a Temperature class with two private attributes to store Fahrenheit and Celsius degrees. In the Temperature class, define methods that \n",
    "- sets the private attributes. When you set one unit of temperature, it should calculate and set the other unit of temperature. For example, when you set degrees in Fahrenheit, it should calculate and set in Celsius degrees. \n",
    "- gets the hidden attributes that round the number to 2 decimal places. \n",
    "\n",
    "The output should look something like following:\n",
    "\n",
    "    MENU\n",
    "    1. Fahrenheit to Celsius\n",
    "    2. Celsius to Fahrenheit\n",
    "    3. Quit\n",
    "    \n",
    "    Enter a menu option: 1\n",
    "    Enter degrees in Fahrenheit: 99\n",
    "    99.00 oF is 37.22 oC.\n",
    "    \n",
    "    Enter a menu option: 2\n",
    "    Enter degrees in Celsius: 37.22\n",
    "    37.22 oC is 99.00 oF.\n",
    "    \n",
    "    Enter a menu option: 3\n",
    "    Bye\n"
   ]
  },
  {
   "cell_type": "code",
   "execution_count": 1,
   "metadata": {},
   "outputs": [
    {
     "name": "stdout",
     "output_type": "stream",
     "text": [
      "\t\t MENU\n",
      "\t 1. Fahrenheit to Celsius\n",
      "\t 2. Celsius to Fahrenheit\n",
      "\t 3. Quit\n",
      "\n",
      "\n",
      "Enter a menu option:1\n",
      "Enter degree in fahrenheit: 35\n",
      "35.00 oF is 1.67 oC.\n",
      "\n",
      "Enter a menu option:2\n",
      "Enter degree in celsius: 23\n",
      " 23.00 oC is 73.40 oF.\n",
      "\n",
      "Enter a menu option:3\n",
      "Bye.\n"
     ]
    }
   ],
   "source": [
    "class Temperature :\n",
    "    \"\"\"Defines Temperature class\"\"\"\n",
    "     \n",
    "    def __init__(self) :\n",
    "        self.__fahrenheit = 32.0\n",
    "        self.__celsius = 0.0\n",
    "        \n",
    "    def set_celsius(self, celsius) :\n",
    "        self.__celsius = float(celsius)\n",
    "        self.__fahrenheit = (float(celsius) * 1.8) + 32.0\n",
    "        return\n",
    "        \n",
    "    def set_fahrenheit(self, fahrenheit) :\n",
    "        self.__celsius = (float(fahrenheit) - 32.0) * (5.0 / 9.0)\n",
    "        self.__fahrenheit = float(fahrenheit)\n",
    "        return\n",
    "    \n",
    "    def get_temp_info(self, sel):\n",
    "        if (sel == '1'):\n",
    "            return f\"{self.__fahrenheit:,.2f} oF is {self.__celsius:,.2f} oC.\"\n",
    "            #return f\"{self.__fahrenheit:,.2f} oF is {self.__celsius:,.2f} oC.\"\n",
    "        elif (sel == '2'):\n",
    "            return f\" {self.__celsius:,.2f} oC is {self.__fahrenheit:,.2f} oF.\"\n",
    "    \n",
    "\n",
    "    \n",
    "#main code\n",
    "temp = Temperature()\n",
    "\n",
    "#1 Display menu\n",
    "print (f\"\\t\\t MENU\\n\" + \n",
    "       f\"\\t 1. Fahrenheit to Celsius\\n\" + \n",
    "       f\"\\t 2. Celsius to Fahrenheit\\n\" +\n",
    "       f\"\\t 3. Quit\\n\")\n",
    "       \n",
    "while (True):\n",
    "    menu = input (\"\\nEnter a menu option:\")\n",
    "    if (menu == '1'):\n",
    "        deg = input(\"Enter degree in fahrenheit: \")\n",
    "        temp.set_fahrenheit(deg)\n",
    "        print (temp.get_temp_info('1'))\n",
    "    elif (menu == '2'):\n",
    "        deg = input(\"Enter degree in celsius: \")\n",
    "        temp.set_celsius(deg)\n",
    "        print (temp.get_temp_info('2'))\n",
    "    elif (menu == '3'):\n",
    "        print (\"Bye.\")\n",
    "        break\n",
    "    else:\n",
    "        print (\"worng choice, try again\")\n",
    "        "
   ]
  },
  {
   "cell_type": "markdown",
   "metadata": {},
   "source": [
    "## Exercise 2: \n",
    "Create a <b>Privileges</b> class that has privileges, a private attribute. It can store a list of strings such as \"can add\", \"can delete\", and \"can modify\".  Write a method called show_privileges(). \n",
    "\n",
    "Create a class called <b>Admin</b> that inherits from the <b>Person</b> class (see next cell). Make a Privileges instance as an attribute in the Admin class. Create a new instance of Admin and use your method to show its privileges.\n"
   ]
  },
  {
   "cell_type": "code",
   "execution_count": 84,
   "metadata": {},
   "outputs": [],
   "source": [
    "class Person : \n",
    "    def __init__(self, name, age, gender) :\n",
    "        self.__name = name\n",
    "        self.__age = age\n",
    "        self.__gender = gender\n",
    "\n",
    "    def get_name(self) :\n",
    "        return self.__name\n",
    "    \n",
    "    def get_info(self) :\n",
    "        return f\"Name: {self.__name}\\n\\t\\tAge: {self.__age}\\n\\t\\tGender: {self.__gender}\"\n",
    "       "
   ]
  },
  {
   "cell_type": "code",
   "execution_count": 127,
   "metadata": {},
   "outputs": [
    {
     "name": "stdout",
     "output_type": "stream",
     "text": [
      "About a person:\n",
      "\t\tName: Mike Brown\n",
      "\t\tAge: 25\n",
      "\t\tGender: Male\n",
      "List of privs are:\n",
      "\t\tcan add\n",
      "\t\tcan modify\n",
      "\t\tcan delete\n",
      "\n",
      "\n"
     ]
    }
   ],
   "source": [
    "class Privileges :\n",
    "    def __init__ (self, privileges):\n",
    "        self.__privileges = privileges\n",
    "    \n",
    "    def show_privileges():\n",
    "        return f\"\\t {self.__privileges}\"\n",
    "   \n",
    "\n",
    "class Admin (Person) :\n",
    "    def __init__(self, name, age, gender):\n",
    "        self.__Privileges = []\n",
    "        super().__init__( name, age, gender)\n",
    "\n",
    "    def add_privilege(self, privilege) :\n",
    "        \"\"\"Adds a privilege to the list\"\"\"\n",
    "        self.__Privileges.append(privilege)\n",
    "        return\n",
    "    \n",
    "    def get_privilege(self) :\n",
    "        listofprivs=\"\"\n",
    "        #listofprivs = f\"{self.__Privileges}\\n\"\n",
    "        for i in range(0, len(self.__Privileges)):\n",
    "           listofprivs += f\"\\t\\t{self.__Privileges[i]}\\n\"\n",
    "        return listofprivs\n",
    "    \n",
    "        \n",
    "    \n",
    "#main\n",
    "#create persons instances\n",
    "admin = Admin(\"Mike Brown\", 25, \"Male\")  # create an instance of Admin\n",
    "\n",
    "# Create multiple product objects and save them to a list\n",
    "admin.add_privilege(\"can add\")\n",
    "admin.add_privilege(\"can modify\")\n",
    "admin.add_privilege(\"can delete\")\n",
    "\n",
    "# Print data for Admin person\n",
    "print(f\"About a person:\\n\\t\\t{admin.get_info()}\")\n",
    "\n",
    "#print priveledge the person has\n",
    "print (f\"List of privs are:\\n{admin.get_privilege()}\")\n",
    "   \n",
    "print()\n",
    "    "
   ]
  },
  {
   "cell_type": "markdown",
   "metadata": {},
   "source": [
    "## Exercise 3:\n",
    "1. Use the Product class from next cell\n",
    "2. Add get_description() method to Product class\n",
    "3. Create Book class inherited from the Product class. Add author attribute to the Book class and make modification to get_description() method\n",
    "4. Create Movie class inherited from the Product class. Add year attributes. Add/modify necessary methods"
   ]
  },
  {
   "cell_type": "code",
   "execution_count": 128,
   "metadata": {},
   "outputs": [],
   "source": [
    "# From Day 1 Class Demo\n",
    "class Product : \n",
    "    \"\"\"A simple attempt to model a product.\"\"\"\n",
    "    \n",
    "    def __init__(self, name, price, discount_rate) :\n",
    "        \"\"\"Initialize name, price, and discount_rate attributes\"\"\"\n",
    "        self.name = name\n",
    "        self.price = price\n",
    "        self.discount_rate = discount_rate\n",
    "        \n",
    "        \n",
    "    def get_discount_amount(self) :\n",
    "        \"\"\"Computes a discount calculation\"\"\"\n",
    "        return self.price * self.discount_rate / 100\n",
    "    \n",
    "        \n",
    "    def get_info(self) :\n",
    "        return(f\"Name: {self.name}\\n\" + \n",
    "                f\"Price: {self.price}\\n\" +\n",
    "                f\"Disicount Amount: ${self.get_discount_amount():,.2f}\\n\" +\n",
    "                f\"Discounted Price: ${self.get_sale_price():,.2f}\")\n",
    "    \n",
    "    def get_sale_price(self) :\n",
    "        \"\"\"Calls another method to find a sale price\"\"\"\n",
    "        return self.price - self.get_discount_amount()\n",
    "    \n",
    "    def get_description():\n",
    "        return get_info()\n",
    "        \n",
    "class Book (Product):\n",
    "    def __init__ (self, name, price, dcisount_rate,author ):\n",
    "        self.__author = author\n",
    "        super().__init__(name, price, dcisount_rate)\n",
    "        \n",
    "    def get_description():\n",
    "        return f\"{get_info()}\\nAuthor: {self__author} \" \n",
    "\n",
    "class Movie (Product):\n",
    "    def __init__ (self, name, price, dcisount_rate, year ):\n",
    "        self.__year = year\n",
    "        super().__init__(name, price, dcisount_rate)\n",
    "        \n",
    "    def get_description():\n",
    "        return f\"{get_info()}\\nYear: {self__year} \" \n",
    "    "
   ]
  },
  {
   "cell_type": "code",
   "execution_count": null,
   "metadata": {},
   "outputs": [],
   "source": []
  },
  {
   "cell_type": "markdown",
   "metadata": {},
   "source": [
    "## Exercise 4\n",
    "Create a <b>MyDate</b> class with month, day, year, hour, minute, and second <b>private attributes</b>.  Create an initialization method that takes a string in the format of \"mm-dd-yyyy hh:mm:ss\". Also create necessary public methods as needed.  \n",
    "\n",
    "Then, run below program to show your class works:\n",
    "\n",
    "    today = MyDate(\"10-10-2020 12:11:22\")\n",
    "    print(today.get_datetime())\n",
    "    today.set_datetime(\"11-31-1999 02:33:22\")\n",
    "    print(today.get_datetime())\n",
    "    print(today.get_datetime(month_first=False))"
   ]
  },
  {
   "cell_type": "code",
   "execution_count": 96,
   "metadata": {},
   "outputs": [],
   "source": [
    "class MyDate ():\n",
    "    \"\"\"My Date class.\"\"\"     \n",
    "    def __init__(self, date_string):\n",
    "        self.__month  = date_string[0:2]\n",
    "        self.__day    = date_string[3:5]\n",
    "        self.__year   = date_string[6:10]\n",
    "        self.__hour   = date_string[11:13]\n",
    "        self.__minute = date_string[14:16]  \n",
    "        self.__second = date_string[17:19]\n",
    "        \n",
    "    def set_datetime (self, date_string):\n",
    "        self.__month  = date_string[0:2]\n",
    "        self.__day    = date_string[3:5]\n",
    "        self.__year   = date_string[6:10]\n",
    "        self.__hour   = date_string[11:13]\n",
    "        self.__minute = date_string[14:16]  \n",
    "        self.__second = date_string[17:19] \n",
    "        \n",
    "    def get_datetime (self, month_first=\"True\"):\n",
    "        if (int(self.__hour)  >= 12 and (int(self.__minute) > 0) and (int(self.__second) > 0)): \n",
    "            ampm = \"PM\"\n",
    "        else:\n",
    "            ampm = \"AM\"\n",
    "            \n",
    "        if (month_first==False):\n",
    "                    return (f\" Date: {self.__month}/\" + \n",
    "                            f\"{self.__day}/\" + \n",
    "                            f\"{self.__year} \" +\n",
    "                            f\"{self.__hour} Oclock {ampm} \" + \n",
    "                            f\"{self.__minute} Minutes and \" + \n",
    "                            f\"{self.__second} Seconds.\")\n",
    "        else: \n",
    "            return (f\" Date: {self.__day}/\" +\n",
    "                    f\"{self.__month}/\" + \n",
    "                    f\"{self.__year} \" + \n",
    "                    f\"{self.__hour} Oclock {ampm} \" + \n",
    "                    f\"{self.__minute} Minutes and \" +  \n",
    "                    f\"{self.__second} Seconds.\") \n",
    "      "
   ]
  },
  {
   "cell_type": "code",
   "execution_count": 97,
   "metadata": {},
   "outputs": [
    {
     "name": "stdout",
     "output_type": "stream",
     "text": [
      " Date: 10/10/2020 12 Oclock PM 11 Minutes and 22 Seconds.\n",
      " Date: 31/11/1999 02 Oclock AM 33 Minutes and 22 Seconds.\n",
      " Date: 11/31/1999 02 Oclock AM 33 Minutes and 22 Seconds.\n"
     ]
    }
   ],
   "source": [
    "# main program\n",
    "today = MyDate(\"10-10-2020 12:11:22\")\n",
    "print(today.get_datetime())\n",
    "today.set_datetime(\"11-31-1999 02:33:22\")\n",
    "print(today.get_datetime())\n",
    "print(today.get_datetime(month_first=False))"
   ]
  },
  {
   "cell_type": "markdown",
   "metadata": {},
   "source": [
    "## Challenge\n",
    "\n",
    "Modify <b>MyDate</b> class: \n",
    "\n",
    "    - to validate date & time (for month, days, hour, minute, and second). \n",
    "    - to add days\n",
    "    - to add hours"
   ]
  },
  {
   "cell_type": "code",
   "execution_count": null,
   "metadata": {},
   "outputs": [],
   "source": []
  }
 ],
 "metadata": {
  "kernelspec": {
   "display_name": "Python 3",
   "language": "python",
   "name": "python3"
  },
  "language_info": {
   "codemirror_mode": {
    "name": "ipython",
    "version": 3
   },
   "file_extension": ".py",
   "mimetype": "text/x-python",
   "name": "python",
   "nbconvert_exporter": "python",
   "pygments_lexer": "ipython3",
   "version": "3.8.8"
  }
 },
 "nbformat": 4,
 "nbformat_minor": 4
}
